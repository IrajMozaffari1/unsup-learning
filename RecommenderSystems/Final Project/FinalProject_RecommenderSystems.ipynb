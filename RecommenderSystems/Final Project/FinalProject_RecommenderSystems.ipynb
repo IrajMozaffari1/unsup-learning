{
  "cells": [
    {
      "cell_type": "markdown",
      "metadata": {
        "id": "CFTSvy3gpyDn"
      },
      "source": [
        "# Final Project Recommender Systems"
      ]
    },
    {
      "cell_type": "markdown",
      "metadata": {
        "id": "Uqo9ixbrqHGj"
      },
      "source": [
        "##Title: Recommender Systems for 1M movie dataset.\n",
        "Dataset: MovieLens 1M Dataset (https://grouplens.org/datasets/movielens/1m/)\n",
        "Project Owner: Masoumeh Ghorbani\n",
        "\n",
        "Tasks:\n",
        "1. Load dataset\n",
        "2. EDA\n",
        "3. Create the user-item matrix\n",
        "4. Content-based model\n",
        "5. User-user collaborative\n",
        "6. Item-item collaborative\n",
        "7. SVD model\n",
        "8. ALS model\n",
        "9. Combine models"
      ]
    },
    {
      "cell_type": "markdown",
      "metadata": {
        "id": "JMqTC2B2q56P"
      },
      "source": [
        "## 1.Load dataset"
      ]
    },
    {
      "cell_type": "code",
      "execution_count": 66,
      "metadata": {
        "colab": {
          "base_uri": "https://localhost:8080/"
        },
        "id": "lIYdn1woOS1n",
        "outputId": "96dfe35f-1733-499a-92f9-fd46b5be56d3"
      },
      "outputs": [
        {
          "name": "stderr",
          "output_type": "stream",
          "text": [
            "SYSTEM_WGETRC = c:/progra~1/wget/etc/wgetrc\n",
            "syswgetrc = C:\\Program Files\\GnuWin32/etc/wgetrc\n",
            "--2024-10-08 04:13:44--  https://files.grouplens.org/datasets/movielens/ml-1m.zip\n",
            "Resolving files.grouplens.org... 128.101.65.152\n",
            "Connecting to files.grouplens.org|128.101.65.152|:443... connected.\n",
            "Unable to establish SSL connection.\n"
          ]
        }
      ],
      "source": [
        "# get data from grouplens (movielens data)\n",
        "!wget https://files.grouplens.org/datasets/movielens/ml-1m.zip"
      ]
    },
    {
      "cell_type": "code",
      "execution_count": 67,
      "metadata": {
        "colab": {
          "base_uri": "https://localhost:8080/"
        },
        "id": "-6cYd0bMHomb",
        "outputId": "4113debf-b648-4b73-83a2-536b76e53e1b"
      },
      "outputs": [
        {
          "name": "stderr",
          "output_type": "stream",
          "text": [
            "'unzip' is not recognized as an internal or external command,\n",
            "operable program or batch file.\n"
          ]
        }
      ],
      "source": [
        "!unzip ml-1m.zip"
      ]
    },
    {
      "cell_type": "code",
      "execution_count": 68,
      "metadata": {
        "id": "Su4q_8XbHx7a"
      },
      "outputs": [],
      "source": [
        "import pandas as pd\n",
        "from sklearn.metrics.pairwise import cosine_similarity\n",
        "import numpy as np\n",
        "from datetime import datetime\n",
        "from sklearn.model_selection import train_test_split\n",
        "from sklearn.preprocessing import LabelEncoder, StandardScaler,MultiLabelBinarizer\n",
        "from sklearn.impute import SimpleImputer\n",
        "from sklearn.decomposition import TruncatedSVD"
      ]
    },
    {
      "cell_type": "markdown",
      "metadata": {
        "id": "k31fJxKCrVtg"
      },
      "source": [
        "## 2.EDA"
      ]
    },
    {
      "cell_type": "code",
      "execution_count": 69,
      "metadata": {
        "id": "scW9Nj9xtKtJ"
      },
      "outputs": [],
      "source": [
        "# Define file paths\n",
        "\n",
        "ratings_file = 'content/ml-1m/ratings.dat'\n",
        "movies_file = 'content/ml-1m/movies.dat'\n",
        "users_file = 'content/ml-1m/users.dat'\n",
        "\n",
        "# Load ratings data\n",
        "\n",
        "ratings = pd.read_csv(ratings_file, sep='::', engine='python', encoding='ISO-8859-1', names=['user_id', 'movie_id', 'rating', 'timestamp'])\n",
        "\n",
        "movies = pd.read_csv(movies_file, sep='::', engine='python', encoding='ISO-8859-1', names=['movie_id', 'title', 'genres'])\n",
        "\n",
        "users = pd.read_csv(users_file, sep='::', engine='python', encoding='ISO-8859-1', names=['user_id', 'gender', 'age', 'occupation', 'zip_code'])\n",
        "\n"
      ]
    },
    {
      "cell_type": "code",
      "execution_count": 70,
      "metadata": {
        "colab": {
          "base_uri": "https://localhost:8080/",
          "height": 206
        },
        "id": "FrYCYxAJ0-qm",
        "outputId": "32973e1b-fc3f-4fbe-9fca-21d2d46817b6"
      },
      "outputs": [
        {
          "data": {
            "text/html": [
              "<div>\n",
              "<style scoped>\n",
              "    .dataframe tbody tr th:only-of-type {\n",
              "        vertical-align: middle;\n",
              "    }\n",
              "\n",
              "    .dataframe tbody tr th {\n",
              "        vertical-align: top;\n",
              "    }\n",
              "\n",
              "    .dataframe thead th {\n",
              "        text-align: right;\n",
              "    }\n",
              "</style>\n",
              "<table border=\"1\" class=\"dataframe\">\n",
              "  <thead>\n",
              "    <tr style=\"text-align: right;\">\n",
              "      <th></th>\n",
              "      <th>user_id</th>\n",
              "      <th>movie_id</th>\n",
              "      <th>rating</th>\n",
              "      <th>timestamp</th>\n",
              "    </tr>\n",
              "  </thead>\n",
              "  <tbody>\n",
              "    <tr>\n",
              "      <th>0</th>\n",
              "      <td>1</td>\n",
              "      <td>1193</td>\n",
              "      <td>5</td>\n",
              "      <td>978300760</td>\n",
              "    </tr>\n",
              "    <tr>\n",
              "      <th>1</th>\n",
              "      <td>1</td>\n",
              "      <td>661</td>\n",
              "      <td>3</td>\n",
              "      <td>978302109</td>\n",
              "    </tr>\n",
              "    <tr>\n",
              "      <th>2</th>\n",
              "      <td>1</td>\n",
              "      <td>914</td>\n",
              "      <td>3</td>\n",
              "      <td>978301968</td>\n",
              "    </tr>\n",
              "    <tr>\n",
              "      <th>3</th>\n",
              "      <td>1</td>\n",
              "      <td>3408</td>\n",
              "      <td>4</td>\n",
              "      <td>978300275</td>\n",
              "    </tr>\n",
              "    <tr>\n",
              "      <th>4</th>\n",
              "      <td>1</td>\n",
              "      <td>2355</td>\n",
              "      <td>5</td>\n",
              "      <td>978824291</td>\n",
              "    </tr>\n",
              "  </tbody>\n",
              "</table>\n",
              "</div>"
            ],
            "text/plain": [
              "   user_id  movie_id  rating  timestamp\n",
              "0        1      1193       5  978300760\n",
              "1        1       661       3  978302109\n",
              "2        1       914       3  978301968\n",
              "3        1      3408       4  978300275\n",
              "4        1      2355       5  978824291"
            ]
          },
          "execution_count": 70,
          "metadata": {},
          "output_type": "execute_result"
        }
      ],
      "source": [
        "ratings.head()"
      ]
    },
    {
      "cell_type": "code",
      "execution_count": 71,
      "metadata": {
        "colab": {
          "base_uri": "https://localhost:8080/",
          "height": 206
        },
        "id": "ySi07i8y0-hr",
        "outputId": "6374b8d1-f6f6-430c-8926-6cf8e29b4f18"
      },
      "outputs": [
        {
          "data": {
            "text/html": [
              "<div>\n",
              "<style scoped>\n",
              "    .dataframe tbody tr th:only-of-type {\n",
              "        vertical-align: middle;\n",
              "    }\n",
              "\n",
              "    .dataframe tbody tr th {\n",
              "        vertical-align: top;\n",
              "    }\n",
              "\n",
              "    .dataframe thead th {\n",
              "        text-align: right;\n",
              "    }\n",
              "</style>\n",
              "<table border=\"1\" class=\"dataframe\">\n",
              "  <thead>\n",
              "    <tr style=\"text-align: right;\">\n",
              "      <th></th>\n",
              "      <th>movie_id</th>\n",
              "      <th>title</th>\n",
              "      <th>genres</th>\n",
              "    </tr>\n",
              "  </thead>\n",
              "  <tbody>\n",
              "    <tr>\n",
              "      <th>0</th>\n",
              "      <td>1</td>\n",
              "      <td>Toy Story (1995)</td>\n",
              "      <td>Animation|Children's|Comedy</td>\n",
              "    </tr>\n",
              "    <tr>\n",
              "      <th>1</th>\n",
              "      <td>2</td>\n",
              "      <td>Jumanji (1995)</td>\n",
              "      <td>Adventure|Children's|Fantasy</td>\n",
              "    </tr>\n",
              "    <tr>\n",
              "      <th>2</th>\n",
              "      <td>3</td>\n",
              "      <td>Grumpier Old Men (1995)</td>\n",
              "      <td>Comedy|Romance</td>\n",
              "    </tr>\n",
              "    <tr>\n",
              "      <th>3</th>\n",
              "      <td>4</td>\n",
              "      <td>Waiting to Exhale (1995)</td>\n",
              "      <td>Comedy|Drama</td>\n",
              "    </tr>\n",
              "    <tr>\n",
              "      <th>4</th>\n",
              "      <td>5</td>\n",
              "      <td>Father of the Bride Part II (1995)</td>\n",
              "      <td>Comedy</td>\n",
              "    </tr>\n",
              "  </tbody>\n",
              "</table>\n",
              "</div>"
            ],
            "text/plain": [
              "   movie_id                               title                        genres\n",
              "0         1                    Toy Story (1995)   Animation|Children's|Comedy\n",
              "1         2                      Jumanji (1995)  Adventure|Children's|Fantasy\n",
              "2         3             Grumpier Old Men (1995)                Comedy|Romance\n",
              "3         4            Waiting to Exhale (1995)                  Comedy|Drama\n",
              "4         5  Father of the Bride Part II (1995)                        Comedy"
            ]
          },
          "execution_count": 71,
          "metadata": {},
          "output_type": "execute_result"
        }
      ],
      "source": [
        "movies.head()"
      ]
    },
    {
      "cell_type": "code",
      "execution_count": 72,
      "metadata": {
        "colab": {
          "base_uri": "https://localhost:8080/",
          "height": 206
        },
        "id": "ctfmF2lz0VjG",
        "outputId": "183dc421-f194-4812-9f8b-aea0df9327c2"
      },
      "outputs": [
        {
          "data": {
            "text/html": [
              "<div>\n",
              "<style scoped>\n",
              "    .dataframe tbody tr th:only-of-type {\n",
              "        vertical-align: middle;\n",
              "    }\n",
              "\n",
              "    .dataframe tbody tr th {\n",
              "        vertical-align: top;\n",
              "    }\n",
              "\n",
              "    .dataframe thead th {\n",
              "        text-align: right;\n",
              "    }\n",
              "</style>\n",
              "<table border=\"1\" class=\"dataframe\">\n",
              "  <thead>\n",
              "    <tr style=\"text-align: right;\">\n",
              "      <th></th>\n",
              "      <th>user_id</th>\n",
              "      <th>gender</th>\n",
              "      <th>age</th>\n",
              "      <th>occupation</th>\n",
              "      <th>zip_code</th>\n",
              "    </tr>\n",
              "  </thead>\n",
              "  <tbody>\n",
              "    <tr>\n",
              "      <th>0</th>\n",
              "      <td>1</td>\n",
              "      <td>F</td>\n",
              "      <td>1</td>\n",
              "      <td>10</td>\n",
              "      <td>48067</td>\n",
              "    </tr>\n",
              "    <tr>\n",
              "      <th>1</th>\n",
              "      <td>2</td>\n",
              "      <td>M</td>\n",
              "      <td>56</td>\n",
              "      <td>16</td>\n",
              "      <td>70072</td>\n",
              "    </tr>\n",
              "    <tr>\n",
              "      <th>2</th>\n",
              "      <td>3</td>\n",
              "      <td>M</td>\n",
              "      <td>25</td>\n",
              "      <td>15</td>\n",
              "      <td>55117</td>\n",
              "    </tr>\n",
              "    <tr>\n",
              "      <th>3</th>\n",
              "      <td>4</td>\n",
              "      <td>M</td>\n",
              "      <td>45</td>\n",
              "      <td>7</td>\n",
              "      <td>02460</td>\n",
              "    </tr>\n",
              "    <tr>\n",
              "      <th>4</th>\n",
              "      <td>5</td>\n",
              "      <td>M</td>\n",
              "      <td>25</td>\n",
              "      <td>20</td>\n",
              "      <td>55455</td>\n",
              "    </tr>\n",
              "  </tbody>\n",
              "</table>\n",
              "</div>"
            ],
            "text/plain": [
              "   user_id gender  age  occupation zip_code\n",
              "0        1      F    1          10    48067\n",
              "1        2      M   56          16    70072\n",
              "2        3      M   25          15    55117\n",
              "3        4      M   45           7    02460\n",
              "4        5      M   25          20    55455"
            ]
          },
          "execution_count": 72,
          "metadata": {},
          "output_type": "execute_result"
        }
      ],
      "source": [
        "users.head()"
      ]
    },
    {
      "cell_type": "code",
      "execution_count": 73,
      "metadata": {
        "id": "p3h8Sd_L1Tfc"
      },
      "outputs": [],
      "source": [
        "# Merging data for comprehensive analysis\n",
        "data = pd.merge(ratings, movies, on='movie_id')\n",
        "data = pd.merge(data, users, on='user_id')"
      ]
    },
    {
      "cell_type": "code",
      "execution_count": 74,
      "metadata": {
        "colab": {
          "base_uri": "https://localhost:8080/",
          "height": 206
        },
        "id": "3Or-P31W1Wls",
        "outputId": "efc08f8b-f39e-4360-c28a-fe99ea3d5d62"
      },
      "outputs": [
        {
          "data": {
            "text/html": [
              "<div>\n",
              "<style scoped>\n",
              "    .dataframe tbody tr th:only-of-type {\n",
              "        vertical-align: middle;\n",
              "    }\n",
              "\n",
              "    .dataframe tbody tr th {\n",
              "        vertical-align: top;\n",
              "    }\n",
              "\n",
              "    .dataframe thead th {\n",
              "        text-align: right;\n",
              "    }\n",
              "</style>\n",
              "<table border=\"1\" class=\"dataframe\">\n",
              "  <thead>\n",
              "    <tr style=\"text-align: right;\">\n",
              "      <th></th>\n",
              "      <th>user_id</th>\n",
              "      <th>movie_id</th>\n",
              "      <th>rating</th>\n",
              "      <th>timestamp</th>\n",
              "      <th>title</th>\n",
              "      <th>genres</th>\n",
              "      <th>gender</th>\n",
              "      <th>age</th>\n",
              "      <th>occupation</th>\n",
              "      <th>zip_code</th>\n",
              "    </tr>\n",
              "  </thead>\n",
              "  <tbody>\n",
              "    <tr>\n",
              "      <th>0</th>\n",
              "      <td>1</td>\n",
              "      <td>1193</td>\n",
              "      <td>5</td>\n",
              "      <td>978300760</td>\n",
              "      <td>One Flew Over the Cuckoo's Nest (1975)</td>\n",
              "      <td>Drama</td>\n",
              "      <td>F</td>\n",
              "      <td>1</td>\n",
              "      <td>10</td>\n",
              "      <td>48067</td>\n",
              "    </tr>\n",
              "    <tr>\n",
              "      <th>1</th>\n",
              "      <td>1</td>\n",
              "      <td>661</td>\n",
              "      <td>3</td>\n",
              "      <td>978302109</td>\n",
              "      <td>James and the Giant Peach (1996)</td>\n",
              "      <td>Animation|Children's|Musical</td>\n",
              "      <td>F</td>\n",
              "      <td>1</td>\n",
              "      <td>10</td>\n",
              "      <td>48067</td>\n",
              "    </tr>\n",
              "    <tr>\n",
              "      <th>2</th>\n",
              "      <td>1</td>\n",
              "      <td>914</td>\n",
              "      <td>3</td>\n",
              "      <td>978301968</td>\n",
              "      <td>My Fair Lady (1964)</td>\n",
              "      <td>Musical|Romance</td>\n",
              "      <td>F</td>\n",
              "      <td>1</td>\n",
              "      <td>10</td>\n",
              "      <td>48067</td>\n",
              "    </tr>\n",
              "    <tr>\n",
              "      <th>3</th>\n",
              "      <td>1</td>\n",
              "      <td>3408</td>\n",
              "      <td>4</td>\n",
              "      <td>978300275</td>\n",
              "      <td>Erin Brockovich (2000)</td>\n",
              "      <td>Drama</td>\n",
              "      <td>F</td>\n",
              "      <td>1</td>\n",
              "      <td>10</td>\n",
              "      <td>48067</td>\n",
              "    </tr>\n",
              "    <tr>\n",
              "      <th>4</th>\n",
              "      <td>1</td>\n",
              "      <td>2355</td>\n",
              "      <td>5</td>\n",
              "      <td>978824291</td>\n",
              "      <td>Bug's Life, A (1998)</td>\n",
              "      <td>Animation|Children's|Comedy</td>\n",
              "      <td>F</td>\n",
              "      <td>1</td>\n",
              "      <td>10</td>\n",
              "      <td>48067</td>\n",
              "    </tr>\n",
              "  </tbody>\n",
              "</table>\n",
              "</div>"
            ],
            "text/plain": [
              "   user_id  movie_id  rating  timestamp  \\\n",
              "0        1      1193       5  978300760   \n",
              "1        1       661       3  978302109   \n",
              "2        1       914       3  978301968   \n",
              "3        1      3408       4  978300275   \n",
              "4        1      2355       5  978824291   \n",
              "\n",
              "                                    title                        genres  \\\n",
              "0  One Flew Over the Cuckoo's Nest (1975)                         Drama   \n",
              "1        James and the Giant Peach (1996)  Animation|Children's|Musical   \n",
              "2                     My Fair Lady (1964)               Musical|Romance   \n",
              "3                  Erin Brockovich (2000)                         Drama   \n",
              "4                    Bug's Life, A (1998)   Animation|Children's|Comedy   \n",
              "\n",
              "  gender  age  occupation zip_code  \n",
              "0      F    1          10    48067  \n",
              "1      F    1          10    48067  \n",
              "2      F    1          10    48067  \n",
              "3      F    1          10    48067  \n",
              "4      F    1          10    48067  "
            ]
          },
          "execution_count": 74,
          "metadata": {},
          "output_type": "execute_result"
        }
      ],
      "source": [
        "data.head()"
      ]
    },
    {
      "cell_type": "code",
      "execution_count": 75,
      "metadata": {
        "colab": {
          "base_uri": "https://localhost:8080/"
        },
        "id": "-Lcl9OgC11o1",
        "outputId": "10b14afb-a4d5-471d-f282-3973fe880c96"
      },
      "outputs": [
        {
          "name": "stdout",
          "output_type": "stream",
          "text": [
            "user_id       0\n",
            "movie_id      0\n",
            "rating        0\n",
            "timestamp     0\n",
            "title         0\n",
            "genres        0\n",
            "gender        0\n",
            "age           0\n",
            "occupation    0\n",
            "zip_code      0\n",
            "dtype: int64\n"
          ]
        }
      ],
      "source": [
        "# Handling missing data\n",
        "# Checking for missing values\n",
        "print(data.isnull().sum())"
      ]
    },
    {
      "cell_type": "code",
      "execution_count": 76,
      "metadata": {
        "id": "qJmRT-LX2OFX"
      },
      "outputs": [],
      "source": [
        "# Extracting time features\n",
        "data['datetime'] = pd.to_datetime(data['timestamp'], unit='s')\n",
        "data['year'] = data['datetime'].dt.year\n",
        "data['month'] = data['datetime'].dt.month\n",
        "data['day'] = data['datetime'].dt.day\n",
        "data['hour'] = data['datetime'].dt.hour"
      ]
    },
    {
      "cell_type": "code",
      "execution_count": 77,
      "metadata": {
        "colab": {
          "base_uri": "https://localhost:8080/",
          "height": 206
        },
        "id": "TFt8QGI22yw2",
        "outputId": "a6a864b1-415e-4434-ef8b-a0b1cf94b447"
      },
      "outputs": [
        {
          "data": {
            "text/html": [
              "<div>\n",
              "<style scoped>\n",
              "    .dataframe tbody tr th:only-of-type {\n",
              "        vertical-align: middle;\n",
              "    }\n",
              "\n",
              "    .dataframe tbody tr th {\n",
              "        vertical-align: top;\n",
              "    }\n",
              "\n",
              "    .dataframe thead th {\n",
              "        text-align: right;\n",
              "    }\n",
              "</style>\n",
              "<table border=\"1\" class=\"dataframe\">\n",
              "  <thead>\n",
              "    <tr style=\"text-align: right;\">\n",
              "      <th></th>\n",
              "      <th>user_id</th>\n",
              "      <th>movie_id</th>\n",
              "      <th>rating</th>\n",
              "      <th>timestamp</th>\n",
              "      <th>title</th>\n",
              "      <th>genres</th>\n",
              "      <th>gender</th>\n",
              "      <th>age</th>\n",
              "      <th>occupation</th>\n",
              "      <th>zip_code</th>\n",
              "      <th>datetime</th>\n",
              "      <th>year</th>\n",
              "      <th>month</th>\n",
              "      <th>day</th>\n",
              "      <th>hour</th>\n",
              "    </tr>\n",
              "  </thead>\n",
              "  <tbody>\n",
              "    <tr>\n",
              "      <th>0</th>\n",
              "      <td>1</td>\n",
              "      <td>1193</td>\n",
              "      <td>5</td>\n",
              "      <td>978300760</td>\n",
              "      <td>One Flew Over the Cuckoo's Nest (1975)</td>\n",
              "      <td>Drama</td>\n",
              "      <td>F</td>\n",
              "      <td>1</td>\n",
              "      <td>10</td>\n",
              "      <td>48067</td>\n",
              "      <td>2000-12-31 22:12:40</td>\n",
              "      <td>2000</td>\n",
              "      <td>12</td>\n",
              "      <td>31</td>\n",
              "      <td>22</td>\n",
              "    </tr>\n",
              "    <tr>\n",
              "      <th>1</th>\n",
              "      <td>1</td>\n",
              "      <td>661</td>\n",
              "      <td>3</td>\n",
              "      <td>978302109</td>\n",
              "      <td>James and the Giant Peach (1996)</td>\n",
              "      <td>Animation|Children's|Musical</td>\n",
              "      <td>F</td>\n",
              "      <td>1</td>\n",
              "      <td>10</td>\n",
              "      <td>48067</td>\n",
              "      <td>2000-12-31 22:35:09</td>\n",
              "      <td>2000</td>\n",
              "      <td>12</td>\n",
              "      <td>31</td>\n",
              "      <td>22</td>\n",
              "    </tr>\n",
              "    <tr>\n",
              "      <th>2</th>\n",
              "      <td>1</td>\n",
              "      <td>914</td>\n",
              "      <td>3</td>\n",
              "      <td>978301968</td>\n",
              "      <td>My Fair Lady (1964)</td>\n",
              "      <td>Musical|Romance</td>\n",
              "      <td>F</td>\n",
              "      <td>1</td>\n",
              "      <td>10</td>\n",
              "      <td>48067</td>\n",
              "      <td>2000-12-31 22:32:48</td>\n",
              "      <td>2000</td>\n",
              "      <td>12</td>\n",
              "      <td>31</td>\n",
              "      <td>22</td>\n",
              "    </tr>\n",
              "    <tr>\n",
              "      <th>3</th>\n",
              "      <td>1</td>\n",
              "      <td>3408</td>\n",
              "      <td>4</td>\n",
              "      <td>978300275</td>\n",
              "      <td>Erin Brockovich (2000)</td>\n",
              "      <td>Drama</td>\n",
              "      <td>F</td>\n",
              "      <td>1</td>\n",
              "      <td>10</td>\n",
              "      <td>48067</td>\n",
              "      <td>2000-12-31 22:04:35</td>\n",
              "      <td>2000</td>\n",
              "      <td>12</td>\n",
              "      <td>31</td>\n",
              "      <td>22</td>\n",
              "    </tr>\n",
              "    <tr>\n",
              "      <th>4</th>\n",
              "      <td>1</td>\n",
              "      <td>2355</td>\n",
              "      <td>5</td>\n",
              "      <td>978824291</td>\n",
              "      <td>Bug's Life, A (1998)</td>\n",
              "      <td>Animation|Children's|Comedy</td>\n",
              "      <td>F</td>\n",
              "      <td>1</td>\n",
              "      <td>10</td>\n",
              "      <td>48067</td>\n",
              "      <td>2001-01-06 23:38:11</td>\n",
              "      <td>2001</td>\n",
              "      <td>1</td>\n",
              "      <td>6</td>\n",
              "      <td>23</td>\n",
              "    </tr>\n",
              "  </tbody>\n",
              "</table>\n",
              "</div>"
            ],
            "text/plain": [
              "   user_id  movie_id  rating  timestamp  \\\n",
              "0        1      1193       5  978300760   \n",
              "1        1       661       3  978302109   \n",
              "2        1       914       3  978301968   \n",
              "3        1      3408       4  978300275   \n",
              "4        1      2355       5  978824291   \n",
              "\n",
              "                                    title                        genres  \\\n",
              "0  One Flew Over the Cuckoo's Nest (1975)                         Drama   \n",
              "1        James and the Giant Peach (1996)  Animation|Children's|Musical   \n",
              "2                     My Fair Lady (1964)               Musical|Romance   \n",
              "3                  Erin Brockovich (2000)                         Drama   \n",
              "4                    Bug's Life, A (1998)   Animation|Children's|Comedy   \n",
              "\n",
              "  gender  age  occupation zip_code            datetime  year  month  day  hour  \n",
              "0      F    1          10    48067 2000-12-31 22:12:40  2000     12   31    22  \n",
              "1      F    1          10    48067 2000-12-31 22:35:09  2000     12   31    22  \n",
              "2      F    1          10    48067 2000-12-31 22:32:48  2000     12   31    22  \n",
              "3      F    1          10    48067 2000-12-31 22:04:35  2000     12   31    22  \n",
              "4      F    1          10    48067 2001-01-06 23:38:11  2001      1    6    23  "
            ]
          },
          "execution_count": 77,
          "metadata": {},
          "output_type": "execute_result"
        }
      ],
      "source": [
        "data.head()"
      ]
    },
    {
      "cell_type": "code",
      "execution_count": 78,
      "metadata": {
        "id": "tM7y9ASG4Aoc"
      },
      "outputs": [],
      "source": [
        "# Drop timestamp and datetime columns\n",
        "data.drop(['timestamp', 'datetime'], axis=1, inplace=True)"
      ]
    },
    {
      "cell_type": "code",
      "execution_count": 79,
      "metadata": {
        "id": "ZaA3XlBE27Pw"
      },
      "outputs": [],
      "source": [
        "# Encoding gender, genre, and other categorical features\n",
        "\n",
        "le_gender = LabelEncoder()\n",
        "data['gender'] = le_gender.fit_transform(data['gender'])\n",
        "\n",
        "data['genres'] = data['genres'].apply(lambda x: x.split('|'))\n",
        "mlb = MultiLabelBinarizer()\n",
        "genres_encoded = pd.DataFrame(mlb.fit_transform(data['genres']), columns=mlb.classes_, index=data.index)\n",
        "data = pd.concat([data, genres_encoded], axis=1)\n",
        "data.drop('genres', axis=1, inplace=True)\n",
        "\n",
        "le_occupation = LabelEncoder()\n",
        "data['occupation'] = le_occupation.fit_transform(data['occupation'])"
      ]
    },
    {
      "cell_type": "code",
      "execution_count": 80,
      "metadata": {
        "colab": {
          "base_uri": "https://localhost:8080/",
          "height": 236
        },
        "id": "DOBOWelQ4dOJ",
        "outputId": "60847ea3-5274-48b3-8e4e-faaa08ddda7f"
      },
      "outputs": [
        {
          "data": {
            "text/html": [
              "<div>\n",
              "<style scoped>\n",
              "    .dataframe tbody tr th:only-of-type {\n",
              "        vertical-align: middle;\n",
              "    }\n",
              "\n",
              "    .dataframe tbody tr th {\n",
              "        vertical-align: top;\n",
              "    }\n",
              "\n",
              "    .dataframe thead th {\n",
              "        text-align: right;\n",
              "    }\n",
              "</style>\n",
              "<table border=\"1\" class=\"dataframe\">\n",
              "  <thead>\n",
              "    <tr style=\"text-align: right;\">\n",
              "      <th></th>\n",
              "      <th>user_id</th>\n",
              "      <th>movie_id</th>\n",
              "      <th>rating</th>\n",
              "      <th>title</th>\n",
              "      <th>gender</th>\n",
              "      <th>age</th>\n",
              "      <th>occupation</th>\n",
              "      <th>zip_code</th>\n",
              "      <th>year</th>\n",
              "      <th>month</th>\n",
              "      <th>...</th>\n",
              "      <th>Fantasy</th>\n",
              "      <th>Film-Noir</th>\n",
              "      <th>Horror</th>\n",
              "      <th>Musical</th>\n",
              "      <th>Mystery</th>\n",
              "      <th>Romance</th>\n",
              "      <th>Sci-Fi</th>\n",
              "      <th>Thriller</th>\n",
              "      <th>War</th>\n",
              "      <th>Western</th>\n",
              "    </tr>\n",
              "  </thead>\n",
              "  <tbody>\n",
              "    <tr>\n",
              "      <th>0</th>\n",
              "      <td>1</td>\n",
              "      <td>1193</td>\n",
              "      <td>5</td>\n",
              "      <td>One Flew Over the Cuckoo's Nest (1975)</td>\n",
              "      <td>0</td>\n",
              "      <td>1</td>\n",
              "      <td>10</td>\n",
              "      <td>48067</td>\n",
              "      <td>2000</td>\n",
              "      <td>12</td>\n",
              "      <td>...</td>\n",
              "      <td>0</td>\n",
              "      <td>0</td>\n",
              "      <td>0</td>\n",
              "      <td>0</td>\n",
              "      <td>0</td>\n",
              "      <td>0</td>\n",
              "      <td>0</td>\n",
              "      <td>0</td>\n",
              "      <td>0</td>\n",
              "      <td>0</td>\n",
              "    </tr>\n",
              "    <tr>\n",
              "      <th>1</th>\n",
              "      <td>1</td>\n",
              "      <td>661</td>\n",
              "      <td>3</td>\n",
              "      <td>James and the Giant Peach (1996)</td>\n",
              "      <td>0</td>\n",
              "      <td>1</td>\n",
              "      <td>10</td>\n",
              "      <td>48067</td>\n",
              "      <td>2000</td>\n",
              "      <td>12</td>\n",
              "      <td>...</td>\n",
              "      <td>0</td>\n",
              "      <td>0</td>\n",
              "      <td>0</td>\n",
              "      <td>1</td>\n",
              "      <td>0</td>\n",
              "      <td>0</td>\n",
              "      <td>0</td>\n",
              "      <td>0</td>\n",
              "      <td>0</td>\n",
              "      <td>0</td>\n",
              "    </tr>\n",
              "    <tr>\n",
              "      <th>2</th>\n",
              "      <td>1</td>\n",
              "      <td>914</td>\n",
              "      <td>3</td>\n",
              "      <td>My Fair Lady (1964)</td>\n",
              "      <td>0</td>\n",
              "      <td>1</td>\n",
              "      <td>10</td>\n",
              "      <td>48067</td>\n",
              "      <td>2000</td>\n",
              "      <td>12</td>\n",
              "      <td>...</td>\n",
              "      <td>0</td>\n",
              "      <td>0</td>\n",
              "      <td>0</td>\n",
              "      <td>1</td>\n",
              "      <td>0</td>\n",
              "      <td>1</td>\n",
              "      <td>0</td>\n",
              "      <td>0</td>\n",
              "      <td>0</td>\n",
              "      <td>0</td>\n",
              "    </tr>\n",
              "    <tr>\n",
              "      <th>3</th>\n",
              "      <td>1</td>\n",
              "      <td>3408</td>\n",
              "      <td>4</td>\n",
              "      <td>Erin Brockovich (2000)</td>\n",
              "      <td>0</td>\n",
              "      <td>1</td>\n",
              "      <td>10</td>\n",
              "      <td>48067</td>\n",
              "      <td>2000</td>\n",
              "      <td>12</td>\n",
              "      <td>...</td>\n",
              "      <td>0</td>\n",
              "      <td>0</td>\n",
              "      <td>0</td>\n",
              "      <td>0</td>\n",
              "      <td>0</td>\n",
              "      <td>0</td>\n",
              "      <td>0</td>\n",
              "      <td>0</td>\n",
              "      <td>0</td>\n",
              "      <td>0</td>\n",
              "    </tr>\n",
              "    <tr>\n",
              "      <th>4</th>\n",
              "      <td>1</td>\n",
              "      <td>2355</td>\n",
              "      <td>5</td>\n",
              "      <td>Bug's Life, A (1998)</td>\n",
              "      <td>0</td>\n",
              "      <td>1</td>\n",
              "      <td>10</td>\n",
              "      <td>48067</td>\n",
              "      <td>2001</td>\n",
              "      <td>1</td>\n",
              "      <td>...</td>\n",
              "      <td>0</td>\n",
              "      <td>0</td>\n",
              "      <td>0</td>\n",
              "      <td>0</td>\n",
              "      <td>0</td>\n",
              "      <td>0</td>\n",
              "      <td>0</td>\n",
              "      <td>0</td>\n",
              "      <td>0</td>\n",
              "      <td>0</td>\n",
              "    </tr>\n",
              "  </tbody>\n",
              "</table>\n",
              "<p>5 rows × 30 columns</p>\n",
              "</div>"
            ],
            "text/plain": [
              "   user_id  movie_id  rating                                   title  gender  \\\n",
              "0        1      1193       5  One Flew Over the Cuckoo's Nest (1975)       0   \n",
              "1        1       661       3        James and the Giant Peach (1996)       0   \n",
              "2        1       914       3                     My Fair Lady (1964)       0   \n",
              "3        1      3408       4                  Erin Brockovich (2000)       0   \n",
              "4        1      2355       5                    Bug's Life, A (1998)       0   \n",
              "\n",
              "   age  occupation zip_code  year  month  ...  Fantasy  Film-Noir  Horror  \\\n",
              "0    1          10    48067  2000     12  ...        0          0       0   \n",
              "1    1          10    48067  2000     12  ...        0          0       0   \n",
              "2    1          10    48067  2000     12  ...        0          0       0   \n",
              "3    1          10    48067  2000     12  ...        0          0       0   \n",
              "4    1          10    48067  2001      1  ...        0          0       0   \n",
              "\n",
              "   Musical  Mystery  Romance  Sci-Fi  Thriller  War  Western  \n",
              "0        0        0        0       0         0    0        0  \n",
              "1        1        0        0       0         0    0        0  \n",
              "2        1        0        1       0         0    0        0  \n",
              "3        0        0        0       0         0    0        0  \n",
              "4        0        0        0       0         0    0        0  \n",
              "\n",
              "[5 rows x 30 columns]"
            ]
          },
          "execution_count": 80,
          "metadata": {},
          "output_type": "execute_result"
        }
      ],
      "source": [
        "data.head()"
      ]
    },
    {
      "cell_type": "code",
      "execution_count": 81,
      "metadata": {
        "id": "npLWt0m05taF"
      },
      "outputs": [],
      "source": [
        "# Normalizing data\n",
        "scaler = StandardScaler()\n",
        "data[['rating', 'age', 'year', 'month', 'day', 'hour']] = scaler.fit_transform(data[['rating', 'age', 'year', 'month', 'day', 'hour']])\n"
      ]
    },
    {
      "cell_type": "markdown",
      "metadata": {
        "id": "lPaidqjurYsJ"
      },
      "source": [
        "## 3.user-item matrix"
      ]
    },
    {
      "cell_type": "code",
      "execution_count": 82,
      "metadata": {
        "id": "fBbuIge258So"
      },
      "outputs": [],
      "source": [
        "user_item_matrix = data.pivot_table(index='user_id', columns='movie_id', values='rating', fill_value=0)\n"
      ]
    },
    {
      "cell_type": "code",
      "execution_count": 83,
      "metadata": {
        "colab": {
          "base_uri": "https://localhost:8080/"
        },
        "id": "OkbXv4-56Kaw",
        "outputId": "1282a24d-6664-450c-fdd5-5bbe2083441e"
      },
      "outputs": [
        {
          "name": "stdout",
          "output_type": "stream",
          "text": [
            "movie_id      1     2     3     4     5         6     7     8     9     10    \\\n",
            "user_id                                                                        \n",
            "1         1.269747   0.0   0.0   0.0   0.0  0.000000   0.0   0.0   0.0   0.0   \n",
            "2         0.000000   0.0   0.0   0.0   0.0  0.000000   0.0   0.0   0.0   0.0   \n",
            "3         0.000000   0.0   0.0   0.0   0.0  0.000000   0.0   0.0   0.0   0.0   \n",
            "4         0.000000   0.0   0.0   0.0   0.0  0.000000   0.0   0.0   0.0   0.0   \n",
            "5         0.000000   0.0   0.0   0.0   0.0 -1.415775   0.0   0.0   0.0   0.0   \n",
            "\n",
            "movie_id  ...  3943  3944  3945  3946  3947  3948  3949  3950  3951  3952  \n",
            "user_id   ...                                                              \n",
            "1         ...   0.0   0.0   0.0   0.0   0.0   0.0   0.0   0.0   0.0   0.0  \n",
            "2         ...   0.0   0.0   0.0   0.0   0.0   0.0   0.0   0.0   0.0   0.0  \n",
            "3         ...   0.0   0.0   0.0   0.0   0.0   0.0   0.0   0.0   0.0   0.0  \n",
            "4         ...   0.0   0.0   0.0   0.0   0.0   0.0   0.0   0.0   0.0   0.0  \n",
            "5         ...   0.0   0.0   0.0   0.0   0.0   0.0   0.0   0.0   0.0   0.0  \n",
            "\n",
            "[5 rows x 3706 columns]\n",
            "Matrix dimensions: (6040, 3706)\n"
          ]
        }
      ],
      "source": [
        "print(user_item_matrix.head())\n",
        "print(f\"Matrix dimensions: {user_item_matrix.shape}\")"
      ]
    },
    {
      "cell_type": "code",
      "execution_count": 84,
      "metadata": {
        "colab": {
          "base_uri": "https://localhost:8080/"
        },
        "id": "GQWA3aC06e1J",
        "outputId": "95a336ab-9b65-449b-ebde-14808917b71f"
      },
      "outputs": [
        {
          "name": "stdout",
          "output_type": "stream",
          "text": [
            "Reduced matrix dimensions: (6040, 100)\n"
          ]
        }
      ],
      "source": [
        "#Dimensionality reduction\n",
        "\n",
        "svd = TruncatedSVD(n_components=100, random_state=42)\n",
        "user_factors = svd.fit_transform(user_item_matrix)\n",
        "print(f\"Reduced matrix dimensions: {user_factors.shape}\")\n"
      ]
    },
    {
      "cell_type": "markdown",
      "metadata": {
        "id": "ZUFOQhHBrkTV"
      },
      "source": [
        "## 4. Content-based model\n"
      ]
    },
    {
      "cell_type": "code",
      "execution_count": null,
      "metadata": {
        "id": "itIe8efdrj6u"
      },
      "outputs": [],
      "source": []
    },
    {
      "cell_type": "markdown",
      "metadata": {
        "id": "2FRmXHyYrjIk"
      },
      "source": [
        "## 5. User-user collaborative"
      ]
    },
    {
      "cell_type": "code",
      "execution_count": null,
      "metadata": {
        "id": "rmf-OnsXrogV"
      },
      "outputs": [],
      "source": []
    },
    {
      "cell_type": "markdown",
      "metadata": {
        "id": "BysP215PrqiZ"
      },
      "source": [
        "## 6. Item-item collaborative"
      ]
    },
    {
      "cell_type": "code",
      "execution_count": 138,
      "metadata": {},
      "outputs": [
        {
          "data": {
            "text/html": [
              "<div>\n",
              "<style scoped>\n",
              "    .dataframe tbody tr th:only-of-type {\n",
              "        vertical-align: middle;\n",
              "    }\n",
              "\n",
              "    .dataframe tbody tr th {\n",
              "        vertical-align: top;\n",
              "    }\n",
              "\n",
              "    .dataframe thead th {\n",
              "        text-align: right;\n",
              "    }\n",
              "</style>\n",
              "<table border=\"1\" class=\"dataframe\">\n",
              "  <thead>\n",
              "    <tr style=\"text-align: right;\">\n",
              "      <th>movie_id</th>\n",
              "      <th>1</th>\n",
              "      <th>2</th>\n",
              "      <th>3</th>\n",
              "      <th>4</th>\n",
              "      <th>5</th>\n",
              "      <th>6</th>\n",
              "      <th>7</th>\n",
              "      <th>8</th>\n",
              "      <th>9</th>\n",
              "      <th>10</th>\n",
              "      <th>...</th>\n",
              "      <th>3943</th>\n",
              "      <th>3944</th>\n",
              "      <th>3945</th>\n",
              "      <th>3946</th>\n",
              "      <th>3947</th>\n",
              "      <th>3948</th>\n",
              "      <th>3949</th>\n",
              "      <th>3950</th>\n",
              "      <th>3951</th>\n",
              "      <th>3952</th>\n",
              "    </tr>\n",
              "    <tr>\n",
              "      <th>movie_id</th>\n",
              "      <th></th>\n",
              "      <th></th>\n",
              "      <th></th>\n",
              "      <th></th>\n",
              "      <th></th>\n",
              "      <th></th>\n",
              "      <th></th>\n",
              "      <th></th>\n",
              "      <th></th>\n",
              "      <th></th>\n",
              "      <th></th>\n",
              "      <th></th>\n",
              "      <th></th>\n",
              "      <th></th>\n",
              "      <th></th>\n",
              "      <th></th>\n",
              "      <th></th>\n",
              "      <th></th>\n",
              "      <th></th>\n",
              "      <th></th>\n",
              "      <th></th>\n",
              "    </tr>\n",
              "  </thead>\n",
              "  <tbody>\n",
              "    <tr>\n",
              "      <th>1</th>\n",
              "      <td>1.000000</td>\n",
              "      <td>-0.025299</td>\n",
              "      <td>-0.040417</td>\n",
              "      <td>-0.015082</td>\n",
              "      <td>-0.052786</td>\n",
              "      <td>0.069777</td>\n",
              "      <td>-0.009795</td>\n",
              "      <td>-0.015883</td>\n",
              "      <td>-0.052945</td>\n",
              "      <td>0.023264</td>\n",
              "      <td>...</td>\n",
              "      <td>-0.019684</td>\n",
              "      <td>-0.017014</td>\n",
              "      <td>-0.057195</td>\n",
              "      <td>-0.032156</td>\n",
              "      <td>0.020568</td>\n",
              "      <td>0.050159</td>\n",
              "      <td>0.069549</td>\n",
              "      <td>0.022040</td>\n",
              "      <td>0.021058</td>\n",
              "      <td>0.046679</td>\n",
              "    </tr>\n",
              "    <tr>\n",
              "      <th>2</th>\n",
              "      <td>-0.025299</td>\n",
              "      <td>1.000000</td>\n",
              "      <td>0.074691</td>\n",
              "      <td>0.034221</td>\n",
              "      <td>0.117563</td>\n",
              "      <td>-0.008306</td>\n",
              "      <td>0.088835</td>\n",
              "      <td>0.067258</td>\n",
              "      <td>0.114692</td>\n",
              "      <td>0.111415</td>\n",
              "      <td>...</td>\n",
              "      <td>0.010182</td>\n",
              "      <td>-0.000981</td>\n",
              "      <td>0.028275</td>\n",
              "      <td>0.036908</td>\n",
              "      <td>-0.010532</td>\n",
              "      <td>0.042262</td>\n",
              "      <td>-0.048646</td>\n",
              "      <td>-0.030322</td>\n",
              "      <td>-0.011512</td>\n",
              "      <td>-0.018345</td>\n",
              "    </tr>\n",
              "    <tr>\n",
              "      <th>3</th>\n",
              "      <td>-0.040417</td>\n",
              "      <td>0.074691</td>\n",
              "      <td>1.000000</td>\n",
              "      <td>0.110030</td>\n",
              "      <td>0.168462</td>\n",
              "      <td>0.021005</td>\n",
              "      <td>0.092843</td>\n",
              "      <td>0.058834</td>\n",
              "      <td>0.083339</td>\n",
              "      <td>0.076680</td>\n",
              "      <td>...</td>\n",
              "      <td>0.040994</td>\n",
              "      <td>0.018919</td>\n",
              "      <td>0.020059</td>\n",
              "      <td>0.064342</td>\n",
              "      <td>0.034460</td>\n",
              "      <td>0.043588</td>\n",
              "      <td>-0.051659</td>\n",
              "      <td>0.018456</td>\n",
              "      <td>0.015104</td>\n",
              "      <td>0.004765</td>\n",
              "    </tr>\n",
              "    <tr>\n",
              "      <th>4</th>\n",
              "      <td>-0.015082</td>\n",
              "      <td>0.034221</td>\n",
              "      <td>0.110030</td>\n",
              "      <td>1.000000</td>\n",
              "      <td>0.189753</td>\n",
              "      <td>-0.015939</td>\n",
              "      <td>0.060058</td>\n",
              "      <td>0.040008</td>\n",
              "      <td>0.044108</td>\n",
              "      <td>0.026865</td>\n",
              "      <td>...</td>\n",
              "      <td>0.041376</td>\n",
              "      <td>-0.008167</td>\n",
              "      <td>0.025326</td>\n",
              "      <td>0.051148</td>\n",
              "      <td>0.000097</td>\n",
              "      <td>0.030870</td>\n",
              "      <td>-0.093126</td>\n",
              "      <td>0.012121</td>\n",
              "      <td>0.013417</td>\n",
              "      <td>0.000472</td>\n",
              "    </tr>\n",
              "    <tr>\n",
              "      <th>5</th>\n",
              "      <td>-0.052786</td>\n",
              "      <td>0.117563</td>\n",
              "      <td>0.168462</td>\n",
              "      <td>0.189753</td>\n",
              "      <td>1.000000</td>\n",
              "      <td>-0.008846</td>\n",
              "      <td>0.098798</td>\n",
              "      <td>0.060686</td>\n",
              "      <td>0.142534</td>\n",
              "      <td>0.043668</td>\n",
              "      <td>...</td>\n",
              "      <td>-0.005190</td>\n",
              "      <td>0.007195</td>\n",
              "      <td>0.048691</td>\n",
              "      <td>0.035236</td>\n",
              "      <td>0.029342</td>\n",
              "      <td>0.046906</td>\n",
              "      <td>-0.055698</td>\n",
              "      <td>0.002979</td>\n",
              "      <td>0.009024</td>\n",
              "      <td>-0.019713</td>\n",
              "    </tr>\n",
              "  </tbody>\n",
              "</table>\n",
              "<p>5 rows × 3706 columns</p>\n",
              "</div>"
            ],
            "text/plain": [
              "movie_id      1         2         3         4         5         6     \\\n",
              "movie_id                                                               \n",
              "1         1.000000 -0.025299 -0.040417 -0.015082 -0.052786  0.069777   \n",
              "2        -0.025299  1.000000  0.074691  0.034221  0.117563 -0.008306   \n",
              "3        -0.040417  0.074691  1.000000  0.110030  0.168462  0.021005   \n",
              "4        -0.015082  0.034221  0.110030  1.000000  0.189753 -0.015939   \n",
              "5        -0.052786  0.117563  0.168462  0.189753  1.000000 -0.008846   \n",
              "\n",
              "movie_id      7         8         9         10    ...      3943      3944  \\\n",
              "movie_id                                          ...                       \n",
              "1        -0.009795 -0.015883 -0.052945  0.023264  ... -0.019684 -0.017014   \n",
              "2         0.088835  0.067258  0.114692  0.111415  ...  0.010182 -0.000981   \n",
              "3         0.092843  0.058834  0.083339  0.076680  ...  0.040994  0.018919   \n",
              "4         0.060058  0.040008  0.044108  0.026865  ...  0.041376 -0.008167   \n",
              "5         0.098798  0.060686  0.142534  0.043668  ... -0.005190  0.007195   \n",
              "\n",
              "movie_id      3945      3946      3947      3948      3949      3950  \\\n",
              "movie_id                                                               \n",
              "1        -0.057195 -0.032156  0.020568  0.050159  0.069549  0.022040   \n",
              "2         0.028275  0.036908 -0.010532  0.042262 -0.048646 -0.030322   \n",
              "3         0.020059  0.064342  0.034460  0.043588 -0.051659  0.018456   \n",
              "4         0.025326  0.051148  0.000097  0.030870 -0.093126  0.012121   \n",
              "5         0.048691  0.035236  0.029342  0.046906 -0.055698  0.002979   \n",
              "\n",
              "movie_id      3951      3952  \n",
              "movie_id                      \n",
              "1         0.021058  0.046679  \n",
              "2        -0.011512 -0.018345  \n",
              "3         0.015104  0.004765  \n",
              "4         0.013417  0.000472  \n",
              "5         0.009024 -0.019713  \n",
              "\n",
              "[5 rows x 3706 columns]"
            ]
          },
          "execution_count": 138,
          "metadata": {},
          "output_type": "execute_result"
        }
      ],
      "source": [
        "# Create an item-user matrix (transpose of user-item matrix)\n",
        "item_user_matrix = user_item_matrix.T\n",
        "\n",
        "# Calculate item-item similarity using cosine similarity\n",
        "item_item_similarity_matrix = cosine_similarity(item_user_matrix)\n",
        "\n",
        "# Convert to DataFrame for easier handling\n",
        "item_similarity_df = pd.DataFrame(item_item_similarity_matrix, index=item_user_matrix.index, columns=item_user_matrix.index)\n",
        "\n",
        "item_similarity_df.head()"
      ]
    },
    {
      "cell_type": "code",
      "execution_count": 139,
      "metadata": {},
      "outputs": [],
      "source": [
        "# Function to recommend items based on item similarity\n",
        "def recommend_movies_colab_item(user_id, n_recommendations=5):\n",
        "    # Get the movies watched by the user\n",
        "    user_ratings = user_item_matrix.loc[user_id]\n",
        "    watched_movies = user_ratings[user_ratings > 0].index.tolist()\n",
        "\n",
        "    # Create an empty series to store similarity scores\n",
        "    movie_scores = pd.Series(dtype=float)\n",
        "\n",
        "    # Loop through watched movies to calculate similarity scores for other movies\n",
        "    for movie in watched_movies:\n",
        "        similar_movies = item_similarity_df[movie]\n",
        "        movie_scores = movie_scores.add(similar_movies, fill_value=0)\n",
        "\n",
        "    # Remove already watched movies from recommendations\n",
        "    movie_scores = movie_scores.drop(labels=watched_movies, errors='ignore')\n",
        "\n",
        "    # Sort and return top N recommendations\n",
        "    top_recommendations = movie_scores.sort_values(ascending=False).head(n_recommendations)\n",
        "    #print(top_recommendations)\n",
        "    return top_recommendations.index.tolist()\n"
      ]
    },
    {
      "cell_type": "code",
      "execution_count": 140,
      "metadata": {},
      "outputs": [
        {
          "name": "stdout",
          "output_type": "stream",
          "text": [
            "   movie_id                                              title\n",
            "0      1198                     Raiders of the Lost Ark (1981)\n",
            "1       318                   Shawshank Redemption, The (1994)\n",
            "2      1196  Star Wars: Episode V - The Empire Strikes Back...\n",
            "3       593                   Silence of the Lambs, The (1991)\n",
            "4      1259                                 Stand by Me (1986)\n"
          ]
        }
      ],
      "source": [
        "\n",
        "def get_movie_titles_with_ids(movie_ids):\n",
        "    input_df = pd.DataFrame({'movie_id': movie_ids, 'index': range(len(movie_ids))})\n",
        "    merged_df = pd.merge(input_df, movies[['movie_id', 'title']], on='movie_id')\n",
        "    \n",
        "    sorted_df = merged_df.sort_values('index')\n",
        "    sorted_df = sorted_df.drop('index', axis=1)\n",
        "    return sorted_df\n",
        "\n",
        "collaborative_recommendations_item = recommend_movies_colab_item(1)\n",
        "recommended_movies_df = get_movie_titles_with_ids(collaborative_recommendations_item)\n",
        "print(recommended_movies_df)"
      ]
    },
    {
      "cell_type": "markdown",
      "metadata": {
        "id": "MtaPwXlNr5jq"
      },
      "source": [
        "## 7. SVD model"
      ]
    },
    {
      "cell_type": "code",
      "execution_count": null,
      "metadata": {
        "id": "y_Y64Yp4sjGQ"
      },
      "outputs": [],
      "source": []
    },
    {
      "cell_type": "markdown",
      "metadata": {
        "id": "cNYeaSY_sbWV"
      },
      "source": [
        "## 8. ALS model"
      ]
    },
    {
      "cell_type": "code",
      "execution_count": null,
      "metadata": {
        "id": "D7yndQ2QrrDB"
      },
      "outputs": [],
      "source": []
    },
    {
      "cell_type": "markdown",
      "metadata": {
        "id": "RbHpFXGrsvRF"
      },
      "source": [
        "## 9. Combine models"
      ]
    },
    {
      "cell_type": "code",
      "execution_count": null,
      "metadata": {
        "id": "GyIc2K_1sHHz"
      },
      "outputs": [],
      "source": []
    }
  ],
  "metadata": {
    "colab": {
      "collapsed_sections": [
        "ZUFOQhHBrkTV",
        "2FRmXHyYrjIk",
        "BysP215PrqiZ",
        "MtaPwXlNr5jq",
        "cNYeaSY_sbWV",
        "RbHpFXGrsvRF"
      ],
      "provenance": []
    },
    "kernelspec": {
      "display_name": "Python 3",
      "name": "python3"
    },
    "language_info": {
      "codemirror_mode": {
        "name": "ipython",
        "version": 3
      },
      "file_extension": ".py",
      "mimetype": "text/x-python",
      "name": "python",
      "nbconvert_exporter": "python",
      "pygments_lexer": "ipython3",
      "version": "3.8.8"
    }
  },
  "nbformat": 4,
  "nbformat_minor": 0
}
